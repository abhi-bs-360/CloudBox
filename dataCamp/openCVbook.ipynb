{
 "cells": [
  {
   "cell_type": "code",
   "execution_count": 2,
   "metadata": {},
   "outputs": [],
   "source": [
    "import cv2"
   ]
  },
  {
   "cell_type": "code",
   "execution_count": 3,
   "metadata": {},
   "outputs": [],
   "source": [
    "#reading image\n",
    "\n",
    "fname = 'road.jpg'\n",
    "img = cv2.imread(fname)"
   ]
  },
  {
   "cell_type": "code",
   "execution_count": 4,
   "metadata": {},
   "outputs": [
    {
     "name": "stdout",
     "output_type": "stream",
     "text": [
      "Height : 1603 Width : 2400\n"
     ]
    }
   ],
   "source": [
    "#extracting dimensions\n",
    "height, width = img.shape[:2]\n",
    "\n",
    "print('Height :', height, 'Width :', width)\n"
   ]
  },
  {
   "cell_type": "code",
   "execution_count": 5,
   "metadata": {},
   "outputs": [
    {
     "name": "stdout",
     "output_type": "stream",
     "text": [
      "R = 211, G = 172, B = 165\n"
     ]
    }
   ],
   "source": [
    "#extracting RGB values\n",
    "(B, G, R) = img[100, 100]\n",
    "\n",
    "print(\"R = {}, G = {}, B = {}\".format(R, G, B))"
   ]
  },
  {
   "cell_type": "code",
   "execution_count": 13,
   "metadata": {},
   "outputs": [
    {
     "data": {
      "text/plain": [
       "True"
      ]
     },
     "execution_count": 13,
     "metadata": {},
     "output_type": "execute_result"
    }
   ],
   "source": [
    "# We will calculate the region of interest by slicing the pixels of the image \n",
    "roi = img[100 : 500, 200 : 700]\n",
    "cv2.imwrite('road1.jpg', roi)"
   ]
  },
  {
   "cell_type": "code",
   "execution_count": 16,
   "metadata": {},
   "outputs": [
    {
     "data": {
      "text/plain": [
       "True"
      ]
     },
     "execution_count": 16,
     "metadata": {},
     "output_type": "execute_result"
    }
   ],
   "source": [
    "#resizing image\n",
    "resize = cv2.resize(img, (800, height*800//width))\n",
    "cv2.imwrite('road1.jpg', resize)"
   ]
  },
  {
   "cell_type": "code",
   "execution_count": 18,
   "metadata": {},
   "outputs": [
    {
     "data": {
      "text/plain": [
       "True"
      ]
     },
     "execution_count": 18,
     "metadata": {},
     "output_type": "execute_result"
    }
   ],
   "source": [
    "#rotating image\n",
    "centre = (width//2, height//2)\n",
    "\n",
    "matrix = cv2.getRotationMatrix2D(centre, 180, 1)\n",
    "rotate = cv2.warpAffine(img, matrix, (width, height))\n",
    "cv2.imwrite('road1.jpg', rotate)"
   ]
  },
  {
   "cell_type": "code",
   "execution_count": 21,
   "metadata": {},
   "outputs": [
    {
     "data": {
      "text/plain": [
       "True"
      ]
     },
     "execution_count": 21,
     "metadata": {},
     "output_type": "execute_result"
    }
   ],
   "source": [
    "#drawing rectangle\n",
    "temp = img.copy()\n",
    "\n",
    "rectangle = cv2.rectangle(temp, (1500, 900),  \n",
    "                          (600, 400), (255, 0, 0), 2)\n",
    "\n",
    "cv2.imwrite('road1.jpg', rectangle)"
   ]
  },
  {
   "cell_type": "code",
   "execution_count": null,
   "metadata": {},
   "outputs": [],
   "source": [
    "#adding two images\n",
    "import numpy as np \n",
    "\n",
    "# path to input images are specified and \n",
    "# images are loaded with imread command \n",
    "image1 = cv2.imread('tower.jpg') \n",
    "image2 = cv2.imread('hill.jpg') \n",
    "\n",
    "resize = cv2.resize(image1, (553, 680))\n",
    "cv2.imwrite('tower.jpg', resize)\n",
    "image1 = cv2.imread('tower.jpg')\n",
    "\n",
    "# cv2.addWeighted is applied over the \n",
    "# image inputs with applied parameters \n",
    "weightedSum = cv2.addWeighted(image1, 0.5, image2, 0.4, 0) \n",
    "\n",
    "# the window showing output image \n",
    "# with the weighted sum \n",
    "cv2.imshow('Weighted Image', weightedSum) \n",
    "\n",
    "# De-allocate any associated memory usage \n",
    "if cv2.waitKey(0) & 0xff == 27: \n",
    "    cv2.destroyAllWindows() \n"
   ]
  },
  {
   "cell_type": "code",
   "execution_count": null,
   "metadata": {},
   "outputs": [],
   "source": []
  }
 ],
 "metadata": {
  "kernelspec": {
   "display_name": "Python 3",
   "language": "python",
   "name": "python3"
  },
  "language_info": {
   "codemirror_mode": {
    "name": "ipython",
    "version": 3
   },
   "file_extension": ".py",
   "mimetype": "text/x-python",
   "name": "python",
   "nbconvert_exporter": "python",
   "pygments_lexer": "ipython3",
   "version": "3.8.1"
  }
 },
 "nbformat": 4,
 "nbformat_minor": 4
}
